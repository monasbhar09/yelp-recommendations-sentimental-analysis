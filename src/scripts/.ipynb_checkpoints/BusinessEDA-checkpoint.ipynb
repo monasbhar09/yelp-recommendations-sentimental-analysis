{
 "cells": [
  {
   "cell_type": "markdown",
   "metadata": {},
   "source": [
    "# Exploratory Data Analysis"
   ]
  },
  {
   "cell_type": "markdown",
   "metadata": {},
   "source": [
    "Exploratory data analysis helps one understand the data, to form and change new theories, and decide which techniques are appropriate for analysis. After a model is finished, exploratory data analysis can look for patterns in these data that may have been missed by the original hypothesis tests. Successful exploratory analyses help the researcher modify theories and refine the analysis.\n",
    "\n",
    "We are using Yelp dataset. The documentation about the dataset can be found in this link: https://www.yelp.com/dataset/documentation/json"
   ]
  },
  {
   "cell_type": "markdown",
   "metadata": {},
   "source": [
    "#### Step 1: \n",
    "Reading the business.json and checking the type of data that we have there."
   ]
  },
  {
   "cell_type": "code",
   "execution_count": 1,
   "metadata": {
    "collapsed": true
   },
   "outputs": [],
   "source": [
    "import pandas as pd\n",
    "import matplotlib.pyplot as plt"
   ]
  },
  {
   "cell_type": "code",
   "execution_count": 3,
   "metadata": {},
   "outputs": [],
   "source": [
    "business_df = pd.read_json('business.json',orient='records', lines=True)\n"
   ]
  },
  {
   "cell_type": "code",
   "execution_count": 5,
   "metadata": {},
   "outputs": [
    {
     "name": "stdout",
     "output_type": "stream",
     "text": [
      "<class 'pandas.core.frame.DataFrame'>\n",
      "RangeIndex: 174567 entries, 0 to 174566\n",
      "Data columns (total 15 columns):\n",
      "address         174567 non-null object\n",
      "attributes      174567 non-null object\n",
      "business_id     174567 non-null object\n",
      "categories      174567 non-null object\n",
      "city            174567 non-null object\n",
      "hours           174567 non-null object\n",
      "is_open         174567 non-null int64\n",
      "latitude        174566 non-null float64\n",
      "longitude       174566 non-null float64\n",
      "name            174567 non-null object\n",
      "neighborhood    174567 non-null object\n",
      "postal_code     174567 non-null object\n",
      "review_count    174567 non-null int64\n",
      "stars           174567 non-null float64\n",
      "state           174567 non-null object\n",
      "dtypes: float64(3), int64(2), object(10)\n",
      "memory usage: 20.0+ MB\n"
     ]
    }
   ],
   "source": [
    "business_df.info()"
   ]
  },
  {
   "cell_type": "code",
   "execution_count": 6,
   "metadata": {},
   "outputs": [
    {
     "data": {
      "text/html": [
       "<div>\n",
       "<style>\n",
       "    .dataframe thead tr:only-child th {\n",
       "        text-align: right;\n",
       "    }\n",
       "\n",
       "    .dataframe thead th {\n",
       "        text-align: left;\n",
       "    }\n",
       "\n",
       "    .dataframe tbody tr th {\n",
       "        vertical-align: top;\n",
       "    }\n",
       "</style>\n",
       "<table border=\"1\" class=\"dataframe\">\n",
       "  <thead>\n",
       "    <tr style=\"text-align: right;\">\n",
       "      <th></th>\n",
       "      <th>address</th>\n",
       "      <th>attributes</th>\n",
       "      <th>business_id</th>\n",
       "      <th>categories</th>\n",
       "      <th>city</th>\n",
       "      <th>hours</th>\n",
       "      <th>is_open</th>\n",
       "      <th>latitude</th>\n",
       "      <th>longitude</th>\n",
       "      <th>name</th>\n",
       "      <th>neighborhood</th>\n",
       "      <th>postal_code</th>\n",
       "      <th>review_count</th>\n",
       "      <th>stars</th>\n",
       "      <th>state</th>\n",
       "    </tr>\n",
       "  </thead>\n",
       "  <tbody>\n",
       "    <tr>\n",
       "      <th>0</th>\n",
       "      <td>4855 E Warner Rd, Ste B9</td>\n",
       "      <td>{'AcceptsInsurance': True, 'ByAppointmentOnly'...</td>\n",
       "      <td>FYWN1wneV18bWNgQjJ2GNg</td>\n",
       "      <td>[Dentists, General Dentistry, Health &amp; Medical...</td>\n",
       "      <td>Ahwatukee</td>\n",
       "      <td>{'Friday': '7:30-17:00', 'Tuesday': '7:30-17:0...</td>\n",
       "      <td>1</td>\n",
       "      <td>33.330690</td>\n",
       "      <td>-111.978599</td>\n",
       "      <td>Dental by Design</td>\n",
       "      <td></td>\n",
       "      <td>85044</td>\n",
       "      <td>22</td>\n",
       "      <td>4.0</td>\n",
       "      <td>AZ</td>\n",
       "    </tr>\n",
       "    <tr>\n",
       "      <th>1</th>\n",
       "      <td>3101 Washington Rd</td>\n",
       "      <td>{'BusinessParking': {'garage': False, 'street'...</td>\n",
       "      <td>He-G7vWjzVUysIKrfNbPUQ</td>\n",
       "      <td>[Hair Stylists, Hair Salons, Men's Hair Salons...</td>\n",
       "      <td>McMurray</td>\n",
       "      <td>{'Monday': '9:00-20:00', 'Tuesday': '9:00-20:0...</td>\n",
       "      <td>1</td>\n",
       "      <td>40.291685</td>\n",
       "      <td>-80.104900</td>\n",
       "      <td>Stephen Szabo Salon</td>\n",
       "      <td></td>\n",
       "      <td>15317</td>\n",
       "      <td>11</td>\n",
       "      <td>3.0</td>\n",
       "      <td>PA</td>\n",
       "    </tr>\n",
       "    <tr>\n",
       "      <th>2</th>\n",
       "      <td>6025 N 27th Ave, Ste 1</td>\n",
       "      <td>{}</td>\n",
       "      <td>KQPW8lFf1y5BT2MxiSZ3QA</td>\n",
       "      <td>[Departments of Motor Vehicles, Public Service...</td>\n",
       "      <td>Phoenix</td>\n",
       "      <td>{}</td>\n",
       "      <td>1</td>\n",
       "      <td>33.524903</td>\n",
       "      <td>-112.115310</td>\n",
       "      <td>Western Motor Vehicle</td>\n",
       "      <td></td>\n",
       "      <td>85017</td>\n",
       "      <td>18</td>\n",
       "      <td>1.5</td>\n",
       "      <td>AZ</td>\n",
       "    </tr>\n",
       "    <tr>\n",
       "      <th>3</th>\n",
       "      <td>5000 Arizona Mills Cr, Ste 435</td>\n",
       "      <td>{'BusinessAcceptsCreditCards': True, 'Restaura...</td>\n",
       "      <td>8DShNS-LuFqpEWIp0HxijA</td>\n",
       "      <td>[Sporting Goods, Shopping]</td>\n",
       "      <td>Tempe</td>\n",
       "      <td>{'Monday': '10:00-21:00', 'Tuesday': '10:00-21...</td>\n",
       "      <td>0</td>\n",
       "      <td>33.383147</td>\n",
       "      <td>-111.964725</td>\n",
       "      <td>Sports Authority</td>\n",
       "      <td></td>\n",
       "      <td>85282</td>\n",
       "      <td>9</td>\n",
       "      <td>3.0</td>\n",
       "      <td>AZ</td>\n",
       "    </tr>\n",
       "    <tr>\n",
       "      <th>4</th>\n",
       "      <td>581 Howe Ave</td>\n",
       "      <td>{'Alcohol': 'full_bar', 'HasTV': True, 'NoiseL...</td>\n",
       "      <td>PfOCPjBrlQAnz__NXj9h_w</td>\n",
       "      <td>[American (New), Nightlife, Bars, Sandwiches, ...</td>\n",
       "      <td>Cuyahoga Falls</td>\n",
       "      <td>{'Monday': '11:00-1:00', 'Tuesday': '11:00-1:0...</td>\n",
       "      <td>1</td>\n",
       "      <td>41.119535</td>\n",
       "      <td>-81.475690</td>\n",
       "      <td>Brick House Tavern + Tap</td>\n",
       "      <td></td>\n",
       "      <td>44221</td>\n",
       "      <td>116</td>\n",
       "      <td>3.5</td>\n",
       "      <td>OH</td>\n",
       "    </tr>\n",
       "  </tbody>\n",
       "</table>\n",
       "</div>"
      ],
      "text/plain": [
       "                          address  \\\n",
       "0        4855 E Warner Rd, Ste B9   \n",
       "1              3101 Washington Rd   \n",
       "2          6025 N 27th Ave, Ste 1   \n",
       "3  5000 Arizona Mills Cr, Ste 435   \n",
       "4                    581 Howe Ave   \n",
       "\n",
       "                                          attributes             business_id  \\\n",
       "0  {'AcceptsInsurance': True, 'ByAppointmentOnly'...  FYWN1wneV18bWNgQjJ2GNg   \n",
       "1  {'BusinessParking': {'garage': False, 'street'...  He-G7vWjzVUysIKrfNbPUQ   \n",
       "2                                                 {}  KQPW8lFf1y5BT2MxiSZ3QA   \n",
       "3  {'BusinessAcceptsCreditCards': True, 'Restaura...  8DShNS-LuFqpEWIp0HxijA   \n",
       "4  {'Alcohol': 'full_bar', 'HasTV': True, 'NoiseL...  PfOCPjBrlQAnz__NXj9h_w   \n",
       "\n",
       "                                          categories            city  \\\n",
       "0  [Dentists, General Dentistry, Health & Medical...       Ahwatukee   \n",
       "1  [Hair Stylists, Hair Salons, Men's Hair Salons...        McMurray   \n",
       "2  [Departments of Motor Vehicles, Public Service...         Phoenix   \n",
       "3                         [Sporting Goods, Shopping]           Tempe   \n",
       "4  [American (New), Nightlife, Bars, Sandwiches, ...  Cuyahoga Falls   \n",
       "\n",
       "                                               hours  is_open   latitude  \\\n",
       "0  {'Friday': '7:30-17:00', 'Tuesday': '7:30-17:0...        1  33.330690   \n",
       "1  {'Monday': '9:00-20:00', 'Tuesday': '9:00-20:0...        1  40.291685   \n",
       "2                                                 {}        1  33.524903   \n",
       "3  {'Monday': '10:00-21:00', 'Tuesday': '10:00-21...        0  33.383147   \n",
       "4  {'Monday': '11:00-1:00', 'Tuesday': '11:00-1:0...        1  41.119535   \n",
       "\n",
       "    longitude                      name neighborhood postal_code  \\\n",
       "0 -111.978599          Dental by Design                    85044   \n",
       "1  -80.104900       Stephen Szabo Salon                    15317   \n",
       "2 -112.115310     Western Motor Vehicle                    85017   \n",
       "3 -111.964725          Sports Authority                    85282   \n",
       "4  -81.475690  Brick House Tavern + Tap                    44221   \n",
       "\n",
       "   review_count  stars state  \n",
       "0            22    4.0    AZ  \n",
       "1            11    3.0    PA  \n",
       "2            18    1.5    AZ  \n",
       "3             9    3.0    AZ  \n",
       "4           116    3.5    OH  "
      ]
     },
     "execution_count": 6,
     "metadata": {},
     "output_type": "execute_result"
    }
   ],
   "source": [
    "business_df.head()"
   ]
  },
  {
   "cell_type": "code",
   "execution_count": 7,
   "metadata": {},
   "outputs": [
    {
     "name": "stdout",
     "output_type": "stream",
     "text": [
      "Collecting missingno\n",
      "  Downloading https://files.pythonhosted.org/packages/c8/84/4a058c3c5573f5465f28856b356f80468a5d86337659533a9b7669ee6db7/missingno-0.4.0.tar.gz\n",
      "Requirement already satisfied: numpy in c:\\study\\conda\\lib\\site-packages (from missingno) (1.13.3)\n",
      "Requirement already satisfied: matplotlib in c:\\study\\conda\\lib\\site-packages (from missingno) (2.1.0)\n",
      "Requirement already satisfied: scipy in c:\\study\\conda\\lib\\site-packages (from missingno) (0.19.1)\n",
      "Requirement already satisfied: seaborn in c:\\study\\conda\\lib\\site-packages (from missingno) (0.8)\n",
      "Requirement already satisfied: six>=1.10 in c:\\study\\conda\\lib\\site-packages (from matplotlib->missingno) (1.11.0)\n",
      "Requirement already satisfied: python-dateutil>=2.0 in c:\\study\\conda\\lib\\site-packages (from matplotlib->missingno) (2.6.1)\n",
      "Requirement already satisfied: pytz in c:\\study\\conda\\lib\\site-packages (from matplotlib->missingno) (2017.2)\n",
      "Requirement already satisfied: cycler>=0.10 in c:\\study\\conda\\lib\\site-packages (from matplotlib->missingno) (0.10.0)\n",
      "Requirement already satisfied: pyparsing!=2.0.4,!=2.1.2,!=2.1.6,>=2.0.1 in c:\\study\\conda\\lib\\site-packages (from matplotlib->missingno) (2.2.0)\n",
      "Requirement already satisfied: pandas in c:\\study\\conda\\lib\\site-packages (from seaborn->missingno) (0.20.3)\n",
      "Building wheels for collected packages: missingno\n",
      "  Running setup.py bdist_wheel for missingno: started\n",
      "  Running setup.py bdist_wheel for missingno: finished with status 'done'\n",
      "  Stored in directory: C:\\Users\\shrik\\AppData\\Local\\pip\\Cache\\wheels\\e7\\f2\\2a\\767a612cde8834415d23ab484c5d069fcd0ab3a85052cda6a6\n",
      "Successfully built missingno\n",
      "Installing collected packages: missingno\n",
      "Successfully installed missingno-0.4.0\n"
     ]
    }
   ],
   "source": [
    "!python -m pip install missingno"
   ]
  },
  {
   "cell_type": "code",
   "execution_count": 20,
   "metadata": {
    "collapsed": true
   },
   "outputs": [],
   "source": [
    "import missingno as msno"
   ]
  },
  {
   "cell_type": "code",
   "execution_count": 23,
   "metadata": {},
   "outputs": [
    {
     "data": {
      "image/png": "[encoded data removed]",
      "text/plain": [
       "<matplotlib.figure.Figure at 0x2ca12eb2b00>"
      ]
     },
     "metadata": {},
     "output_type": "display_data"
    }
   ],
   "source": [
    "msno.bar(business_df)\n",
    "plt.show()"
   ]
  },
  {
   "cell_type": "markdown",
   "metadata": {},
   "source": [
    "There was no missing data to handle but the file was large, so we had to do a lot of data processing to find out the relevant data to do recommendation on restaurants."
   ]
  },
  {
   "cell_type": "markdown",
   "metadata": {},
   "source": [
    "#### Step 2:\n",
    "Checking the attribute of the restaurant if its open or not and eliminating the restaurant which is closed."
   ]
  },
  {
   "cell_type": "code",
   "execution_count": 8,
   "metadata": {
    "scrolled": true
   },
   "outputs": [
    {
     "data": {
      "image/png": "[encoded data removed]",
      "text/plain": [
       "<matplotlib.figure.Figure at 0x2f5ef055a58>"
      ]
     },
     "metadata": {},
     "output_type": "display_data"
    }
   ],
   "source": [
    "business_grouped_by_status = business_df[['is_open','stars']].groupby(by='is_open').sum().reset_index()\n",
    "business_grouped_by_status.columns = ['open_status', 'count']\n",
    "business_grouped_by_status.plot(kind='bar', x='open_status', y='count')\n",
    "plt.show()"
   ]
  },
  {
   "cell_type": "code",
   "execution_count": 9,
   "metadata": {
    "collapsed": true
   },
   "outputs": [],
   "source": [
    "# eliminate restaurants that are closed\n",
    "business_df = business_df[business_df['is_open'] == 1]"
   ]
  },
  {
   "cell_type": "code",
   "execution_count": 10,
   "metadata": {},
   "outputs": [
    {
     "data": {
      "text/plain": [
       "(146702, 15)"
      ]
     },
     "execution_count": 10,
     "metadata": {},
     "output_type": "execute_result"
    }
   ],
   "source": [
    "business_df.shape"
   ]
  },
  {
   "cell_type": "markdown",
   "metadata": {},
   "source": [
    "#### Step 3:\n",
    "Selecting the top states with most restaurants "
   ]
  },
  {
   "cell_type": "code",
   "execution_count": 11,
   "metadata": {},
   "outputs": [
    {
     "data": {
      "image/png": "[encoded data removed]",
      "text/plain": [
       "<matplotlib.figure.Figure at 0x2f5ef06ae80>"
      ]
     },
     "metadata": {},
     "output_type": "display_data"
    }
   ],
   "source": [
    "most_business_info = business_df[['state', 'stars']].groupby(by='state').count().reset_index().sort_values(by='stars', ascending=False).head(5)\n",
    "most_business_info.plot(kind='bar', x='state', y='stars')\n",
    "plt.show()"
   ]
  },
  {
   "cell_type": "markdown",
   "metadata": {},
   "source": [
    "#### Step 4: \n",
    "We find out that the states Arizona, Nevada, Ontario, North Carolina and Ohio has the most number of restaurants in the data set so we eliminated the other states as they were significantly low in number"
   ]
  },
  {
   "cell_type": "code",
   "execution_count": 12,
   "metadata": {},
   "outputs": [
    {
     "data": {
      "text/plain": [
       "(118278, 15)"
      ]
     },
     "execution_count": 12,
     "metadata": {},
     "output_type": "execute_result"
    }
   ],
   "source": [
    "top_states = most_business_info['state']\n",
    "top_states_df = business_df[business_df['state'].isin(top_states)]\n",
    "top_states_df.shape"
   ]
  },
  {
   "cell_type": "markdown",
   "metadata": {},
   "source": [
    "#### Step 5:\n",
    "Looking at the categories that the business were segregated into, we cherry picked the categories that were related to restaurants and food"
   ]
  },
  {
   "cell_type": "code",
   "execution_count": 13,
   "metadata": {
    "collapsed": true
   },
   "outputs": [],
   "source": [
    "state_cat_dict = dict()\n",
    "def check_record(record) :\n",
    "    state = record['state']\n",
    "    categories = record.categories\n",
    "    if state in state_cat_dict :\n",
    "        state_obj = state_cat_dict[state]\n",
    "        for cat in categories :\n",
    "            if cat in state_obj :\n",
    "                #cat exist\n",
    "                state_obj[cat] = state_obj[cat] + 1\n",
    "            else :\n",
    "                # cat does not exist in dict\n",
    "                state_obj[cat] = 1\n",
    "        state_cat_dict[state] = state_obj\n",
    "    else :\n",
    "        # new state\n",
    "        state_obj = dict()\n",
    "        for cat in categories :\n",
    "            state_obj[cat] = 1\n",
    "        state_cat_dict[state] = state_obj\n",
    "        \n",
    "temp = top_states_df.apply(lambda x : check_record(x), axis=1)\n"
   ]
  },
  {
   "cell_type": "code",
   "execution_count": 14,
   "metadata": {
    "collapsed": true
   },
   "outputs": [],
   "source": [
    "category_dict = dict()\n",
    "def check_record(record) :\n",
    "\n",
    "    categories = record.categories\n",
    "    for cat in categories :\n",
    "        if cat in category_dict :\n",
    "            #cat exist\n",
    "            category_dict[cat] = category_dict[cat] + 1\n",
    "        else :\n",
    "            # cat does not exist in dict\n",
    "            category_dict[cat] = 1\n",
    "    \n",
    "    \n",
    "        \n",
    "temp = top_states_df.apply(lambda x : check_record(x), axis=1)\n"
   ]
  },
  {
   "cell_type": "markdown",
   "metadata": {},
   "source": [
    "Following are the categories we are selecting to cherry pick."
   ]
  },
  {
   "cell_type": "code",
   "execution_count": 15,
   "metadata": {},
   "outputs": [
    {
     "data": {
      "text/plain": [
       "27"
      ]
     },
     "execution_count": 15,
     "metadata": {},
     "output_type": "execute_result"
    }
   ],
   "source": [
    "required_category = ['Restaurants','Food','Nightlife','Bars','Fast Food','Sandwiches',\n",
    " 'American (Traditional)','Pizza','Coffee & Tea','Burgers','Mexican','Breakfast & Brunch','Specialty Food',\n",
    " 'Chinese','Italian','American (New)','Bakeries','Desserts','Chicken Wings','Salad','Beer','Wine & Spirits',\n",
    " 'Pubs','Sushi Bars','Delis','Juice Bars & Smoothies','Steakhouses'\n",
    "]\n",
    "len(required_category)"
   ]
  },
  {
   "cell_type": "markdown",
   "metadata": {},
   "source": [
    "Following are the states we have filtered the restaurants for."
   ]
  },
  {
   "cell_type": "code",
   "execution_count": 16,
   "metadata": {},
   "outputs": [
    {
     "data": {
      "text/plain": [
       "dict_keys(['AZ', 'OH', 'NV', 'ON', 'NC'])"
      ]
     },
     "execution_count": 16,
     "metadata": {},
     "output_type": "execute_result"
    }
   ],
   "source": [
    "state_cat_dict.keys()"
   ]
  },
  {
   "cell_type": "code",
   "execution_count": 17,
   "metadata": {
    "collapsed": true
   },
   "outputs": [],
   "source": [
    "def check_if_restaurant(categories):\n",
    "    for cat in categories :\n",
    "        if cat in required_category :\n",
    "            return True\n",
    "    return False\n",
    "    "
   ]
  },
  {
   "cell_type": "code",
   "execution_count": 18,
   "metadata": {
    "scrolled": true
   },
   "outputs": [
    {
     "name": "stderr",
     "output_type": "stream",
     "text": [
      "C:\\Study\\conda\\lib\\site-packages\\ipykernel_launcher.py:1: SettingWithCopyWarning: \n",
      "A value is trying to be set on a copy of a slice from a DataFrame.\n",
      "Try using .loc[row_indexer,col_indexer] = value instead\n",
      "\n",
      "See the caveats in the documentation: http://pandas.pydata.org/pandas-docs/stable/indexing.html#indexing-view-versus-copy\n",
      "  \"\"\"Entry point for launching an IPython kernel.\n"
     ]
    }
   ],
   "source": [
    "top_states_df['restaurant'] = top_states_df.apply(lambda x : check_if_restaurant(x['categories']), axis = 1)\n"
   ]
  },
  {
   "cell_type": "code",
   "execution_count": 19,
   "metadata": {
    "collapsed": true
   },
   "outputs": [],
   "source": [
    "top_states_df = top_states_df[top_states_df['restaurant'] == True]"
   ]
  },
  {
   "cell_type": "code",
   "execution_count": 20,
   "metadata": {
    "collapsed": true
   },
   "outputs": [],
   "source": [
    "top_states_df.drop('restaurant', axis=1, inplace=True)"
   ]
  },
  {
   "cell_type": "code",
   "execution_count": 21,
   "metadata": {
    "collapsed": true
   },
   "outputs": [],
   "source": [
    "top_states_df.to_json('business_restaurant.json', orient='records', lines=True)"
   ]
  },
  {
   "cell_type": "code",
   "execution_count": 24,
   "metadata": {},
   "outputs": [
    {
     "data": {
      "text/plain": [
       "(39949, 15)"
      ]
     },
     "execution_count": 24,
     "metadata": {},
     "output_type": "execute_result"
    }
   ],
   "source": [
    "business_restaurant_df = pd.read_json('business_restaurant.json',orient='records', lines=True)\n",
    "business_restaurant_df.shape"
   ]
  },
  {
   "cell_type": "code",
   "execution_count": 23,
   "metadata": {},
   "outputs": [
    {
     "data": {
      "text/html": [
       "<div>\n",
       "<style>\n",
       "    .dataframe thead tr:only-child th {\n",
       "        text-align: right;\n",
       "    }\n",
       "\n",
       "    .dataframe thead th {\n",
       "        text-align: left;\n",
       "    }\n",
       "\n",
       "    .dataframe tbody tr th {\n",
       "        vertical-align: top;\n",
       "    }\n",
       "</style>\n",
       "<table border=\"1\" class=\"dataframe\">\n",
       "  <thead>\n",
       "    <tr style=\"text-align: right;\">\n",
       "      <th></th>\n",
       "      <th>address</th>\n",
       "      <th>attributes</th>\n",
       "      <th>business_id</th>\n",
       "      <th>categories</th>\n",
       "      <th>city</th>\n",
       "      <th>hours</th>\n",
       "      <th>is_open</th>\n",
       "      <th>latitude</th>\n",
       "      <th>longitude</th>\n",
       "      <th>name</th>\n",
       "      <th>neighborhood</th>\n",
       "      <th>postal_code</th>\n",
       "      <th>review_count</th>\n",
       "      <th>stars</th>\n",
       "      <th>state</th>\n",
       "    </tr>\n",
       "  </thead>\n",
       "  <tbody>\n",
       "    <tr>\n",
       "      <th>0</th>\n",
       "      <td>581 Howe Ave</td>\n",
       "      <td>{'Alcohol': 'full_bar', 'HasTV': True, 'NoiseL...</td>\n",
       "      <td>PfOCPjBrlQAnz__NXj9h_w</td>\n",
       "      <td>[American (New), Nightlife, Bars, Sandwiches, ...</td>\n",
       "      <td>Cuyahoga Falls</td>\n",
       "      <td>{'Monday': '11:00-1:00', 'Tuesday': '11:00-1:0...</td>\n",
       "      <td>1</td>\n",
       "      <td>41.119535</td>\n",
       "      <td>-81.475690</td>\n",
       "      <td>Brick House Tavern + Tap</td>\n",
       "      <td></td>\n",
       "      <td>44221</td>\n",
       "      <td>116</td>\n",
       "      <td>3.5</td>\n",
       "      <td>OH</td>\n",
       "    </tr>\n",
       "    <tr>\n",
       "      <th>1</th>\n",
       "      <td>35 Main Street N</td>\n",
       "      <td>{'BusinessParking': {'garage': False, 'street'...</td>\n",
       "      <td>xcgFnd-MwkZeO5G2HQ0gAQ</td>\n",
       "      <td>[Bakeries, Bagels, Food]</td>\n",
       "      <td>Markham</td>\n",
       "      <td>{}</td>\n",
       "      <td>1</td>\n",
       "      <td>43.875177</td>\n",
       "      <td>-79.260153</td>\n",
       "      <td>T &amp; T Bakery and Cafe</td>\n",
       "      <td>Markham Village</td>\n",
       "      <td>L3P 1X3</td>\n",
       "      <td>38</td>\n",
       "      <td>4.0</td>\n",
       "      <td>ON</td>\n",
       "    </tr>\n",
       "    <tr>\n",
       "      <th>2</th>\n",
       "      <td>600 E 4th St</td>\n",
       "      <td>{'GoodForMeal': {'dessert': False, 'latenight'...</td>\n",
       "      <td>fNMVV_ZX7CJSDWQGdOM8Nw</td>\n",
       "      <td>[Restaurants, American (Traditional)]</td>\n",
       "      <td>Charlotte</td>\n",
       "      <td>{'Friday': '7:00-15:00', 'Tuesday': '7:00-15:0...</td>\n",
       "      <td>1</td>\n",
       "      <td>35.221647</td>\n",
       "      <td>-80.839345</td>\n",
       "      <td>Showmars Government Center</td>\n",
       "      <td>Uptown</td>\n",
       "      <td>28202</td>\n",
       "      <td>7</td>\n",
       "      <td>3.5</td>\n",
       "      <td>NC</td>\n",
       "    </tr>\n",
       "    <tr>\n",
       "      <th>3</th>\n",
       "      <td>9665 Bayview Avenue, Unit 1-4</td>\n",
       "      <td>{'RestaurantsTableService': True, 'GoodForMeal...</td>\n",
       "      <td>Gu-xs3NIQTj3Mj2xYoN2aw</td>\n",
       "      <td>[French, Food, Bakeries, Restaurants]</td>\n",
       "      <td>Richmond Hill</td>\n",
       "      <td>{'Monday': '11:30-22:00', 'Tuesday': '11:30-22...</td>\n",
       "      <td>1</td>\n",
       "      <td>43.867565</td>\n",
       "      <td>-79.412662</td>\n",
       "      <td>Maxim Bakery &amp; Restaurant</td>\n",
       "      <td></td>\n",
       "      <td>L4C 9V4</td>\n",
       "      <td>34</td>\n",
       "      <td>3.5</td>\n",
       "      <td>ON</td>\n",
       "    </tr>\n",
       "    <tr>\n",
       "      <th>4</th>\n",
       "      <td>85 Hanna Avenue</td>\n",
       "      <td>{'BusinessParking': {'garage': False, 'street'...</td>\n",
       "      <td>lHYiCS-y8AFjUitv6MGpxg</td>\n",
       "      <td>[Food, Coffee &amp; Tea]</td>\n",
       "      <td>Toronto</td>\n",
       "      <td>{'Monday': '5:30-22:00', 'Tuesday': '5:30-22:0...</td>\n",
       "      <td>1</td>\n",
       "      <td>43.639863</td>\n",
       "      <td>-79.419533</td>\n",
       "      <td>Starbucks</td>\n",
       "      <td>Liberty Village</td>\n",
       "      <td>M6K 3S3</td>\n",
       "      <td>21</td>\n",
       "      <td>4.0</td>\n",
       "      <td>ON</td>\n",
       "    </tr>\n",
       "  </tbody>\n",
       "</table>\n",
       "</div>"
      ],
      "text/plain": [
       "                         address  \\\n",
       "0                   581 Howe Ave   \n",
       "1               35 Main Street N   \n",
       "2                   600 E 4th St   \n",
       "3  9665 Bayview Avenue, Unit 1-4   \n",
       "4                85 Hanna Avenue   \n",
       "\n",
       "                                          attributes             business_id  \\\n",
       "0  {'Alcohol': 'full_bar', 'HasTV': True, 'NoiseL...  PfOCPjBrlQAnz__NXj9h_w   \n",
       "1  {'BusinessParking': {'garage': False, 'street'...  xcgFnd-MwkZeO5G2HQ0gAQ   \n",
       "2  {'GoodForMeal': {'dessert': False, 'latenight'...  fNMVV_ZX7CJSDWQGdOM8Nw   \n",
       "3  {'RestaurantsTableService': True, 'GoodForMeal...  Gu-xs3NIQTj3Mj2xYoN2aw   \n",
       "4  {'BusinessParking': {'garage': False, 'street'...  lHYiCS-y8AFjUitv6MGpxg   \n",
       "\n",
       "                                          categories            city  \\\n",
       "0  [American (New), Nightlife, Bars, Sandwiches, ...  Cuyahoga Falls   \n",
       "1                           [Bakeries, Bagels, Food]         Markham   \n",
       "2              [Restaurants, American (Traditional)]       Charlotte   \n",
       "3              [French, Food, Bakeries, Restaurants]   Richmond Hill   \n",
       "4                               [Food, Coffee & Tea]         Toronto   \n",
       "\n",
       "                                               hours  is_open   latitude  \\\n",
       "0  {'Monday': '11:00-1:00', 'Tuesday': '11:00-1:0...        1  41.119535   \n",
       "1                                                 {}        1  43.875177   \n",
       "2  {'Friday': '7:00-15:00', 'Tuesday': '7:00-15:0...        1  35.221647   \n",
       "3  {'Monday': '11:30-22:00', 'Tuesday': '11:30-22...        1  43.867565   \n",
       "4  {'Monday': '5:30-22:00', 'Tuesday': '5:30-22:0...        1  43.639863   \n",
       "\n",
       "   longitude                        name     neighborhood postal_code  \\\n",
       "0 -81.475690    Brick House Tavern + Tap                        44221   \n",
       "1 -79.260153       T & T Bakery and Cafe  Markham Village     L3P 1X3   \n",
       "2 -80.839345  Showmars Government Center           Uptown       28202   \n",
       "3 -79.412662   Maxim Bakery & Restaurant                      L4C 9V4   \n",
       "4 -79.419533                   Starbucks  Liberty Village     M6K 3S3   \n",
       "\n",
       "   review_count  stars state  \n",
       "0           116    3.5    OH  \n",
       "1            38    4.0    ON  \n",
       "2             7    3.5    NC  \n",
       "3            34    3.5    ON  \n",
       "4            21    4.0    ON  "
      ]
     },
     "execution_count": 23,
     "metadata": {},
     "output_type": "execute_result"
    }
   ],
   "source": [
    "business_restaurant_df.head()"
   ]
  },
  {
   "cell_type": "markdown",
   "metadata": {},
   "source": [
    "#### Step 6:\n",
    "With the help of the filtered business dataset, we selected the reviews based on those businesses and merged the files for computing the results."
   ]
  },
  {
   "cell_type": "code",
   "execution_count": 25,
   "metadata": {
    "collapsed": true
   },
   "outputs": [],
   "source": [
    "OH_rest_df = business_restaurant_df[business_restaurant_df['state']==\"OH\"]\n",
    "OH_rest_df.to_json('OH_restaurant_business.json', orient='records', lines=True)\n",
    "\n",
    "NC_rest_df = business_restaurant_df[business_restaurant_df['state']==\"NC\"]\n",
    "NC_rest_df.to_json('NC_restaurant_business.json', orient='records', lines=True)\n",
    "\n",
    "ON_rest_df = business_restaurant_df[business_restaurant_df['state']==\"ON\"]\n",
    "ON_rest_df.to_json('ON_restaurant_business.json', orient='records', lines=True)\n",
    "\n",
    "NV_rest_df = business_restaurant_df[business_restaurant_df['state']==\"NV\"]\n",
    "NV_rest_df.to_json('NV_restaurant_business.json', orient='records', lines=True)\n",
    "\n",
    "AZ_rest_df = business_restaurant_df[business_restaurant_df['state']==\"AZ\"]\n",
    "AZ_rest_df.to_json('AZ_restaurant_business.json', orient='records', lines=True)"
   ]
  },
  {
   "cell_type": "markdown",
   "metadata": {},
   "source": [
    "After cleaning and segregating the data and merging appropriate files, we get the data frame which has only the relevant features needed for a recommendation model"
   ]
  },
  {
   "cell_type": "markdown",
   "metadata": {
    "collapsed": true
   },
   "source": [
    "### License:\n",
    "\n",
    "The text in the document by Shrikant Mudholkar, Varsha Bhanushali and Monas Bhar is licensed under CC BY 3.0 https://creativecommons.org/licenses/by/3.0/us/\n",
    "\n",
    "The code in the document by Shrikant Mudholkar, Varsha Bhanushali and Monas Bhar is licensed under the MIT License https://opensource.org/licenses/MIT"
   ]
  },
  {
   "cell_type": "code",
   "execution_count": null,
   "metadata": {},
   "outputs": [],
   "source": []
  }
 ],
 "metadata": {
  "kernelspec": {
   "display_name": "Python 3",
   "language": "python",
   "name": "python3"
  },
  "language_info": {
   "codemirror_mode": {
    "name": "ipython",
    "version": 3
   },
   "file_extension": ".py",
   "mimetype": "text/x-python",
   "name": "python",
   "nbconvert_exporter": "python",
   "pygments_lexer": "ipython3",
   "version": "3.6.5"
  }
 },
 "nbformat": 4,
 "nbformat_minor": 2
}
