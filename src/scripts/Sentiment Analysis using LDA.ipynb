{
 "cells": [
  {
   "cell_type": "markdown",
   "metadata": {},
   "source": [
    "# Sentiment Analysis using LDA\n",
    "\n",
    "Businesses often want to know how customers think about the quality of their services to improve and make more profits. Restaurant goers may want to learn from others' experience using a variety of criteria such as food quality, service, ambience, discounts and worthiness. Yelp users may post their reviews and ratings on businesses and services or simply express their thoughts on other reviews. Bad (negative) reviews from one's perspective may influence potential customers in making decisions, e.g., a potential customer may cancel a service and persuade other do the same."
   ]
  },
  {
   "cell_type": "markdown",
   "metadata": {},
   "source": [
    "#### Topic Modelling\n",
    "\n",
    "As the name suggests, it is a process to automatically identify topics present in a text object and to derive hidden patterns exhibited by a text corpus. Thus, assisting better decision making.\n",
    "\n",
    "Topic Modelling is different from rule-based text mining approaches that use regular expressions or dictionary based keyword searching techniques. It is an unsupervised approach used for finding and observing the bunch of words (called “topics”) in large clusters of texts.\n",
    "\n",
    "Topics can be defined as “a repeating pattern of co-occurring terms in a corpus”\n",
    "\n",
    "Topic Models are very useful for the purpose for document clustering, organizing large blocks of textual data, information retrieval from unstructured text and feature selection."
   ]
  },
  {
   "cell_type": "code",
   "execution_count": 6,
   "metadata": {},
   "outputs": [],
   "source": [
    "import pandas as pd\n",
    "import numpy as np\n",
    "import gensim\n",
    "from textblob import TextBlob\n",
    "import re\n",
    "import nltk\n",
    "from nltk.corpus import stopwords\n",
    "from nltk.stem.porter import PorterStemmer as ps\n",
    "from nltk.stem.wordnet import WordNetLemmatizer\n",
    "import string\n",
    "from gensim.parsing.preprocessing import STOPWORDS"
   ]
  },
  {
   "cell_type": "markdown",
   "metadata": {},
   "source": [
    "#### Reading the json file"
   ]
  },
  {
   "cell_type": "code",
   "execution_count": 7,
   "metadata": {},
   "outputs": [],
   "source": [
    "path = 'Filtered_review_10K.json'\n",
    "df = pd.read_json(path, orient='records', lines=True)"
   ]
  },
  {
   "cell_type": "markdown",
   "metadata": {},
   "source": [
    "#### Preparing Documents\n",
    "Cleaning is an important step before any text mining task, in this step, we will remove the punctuations, stopwords and normalize the corpus."
   ]
  },
  {
   "cell_type": "code",
   "execution_count": 8,
   "metadata": {},
   "outputs": [],
   "source": [
    "import re\n",
    "\n",
    "rest_review_dict = dict()\n",
    "for temp in df.iterrows() :\n",
    "    row = temp[1]\n",
    "    business_id = row.business_id\n",
    "    \n",
    "    exclude = set(string.punctuation)\n",
    "    \n",
    "    \n",
    "    review_text = row['text']\n",
    "    stop_free = ' '.join([word for word in review_text.lower().split() if word not in STOPWORDS])\n",
    "    stop_punc = ''.join(ch for ch in stop_free if ch not in exclude)\n",
    "    text = ''.join([i for i in stop_punc if not i.isdigit()])\n",
    "    \n",
    "    review_stars = row['stars']\n",
    "    \n",
    "    if business_id in rest_review_dict :\n",
    "        reviews_array = rest_review_dict[business_id]\n",
    "        reviews_array.append({'review_text' : review_text, 'review_stars' : review_stars,\n",
    "                              'polarity' : TextBlob(text).sentiment.polarity,\n",
    "                             'stemmed_text' : text})\n",
    "    else :\n",
    "        reviews_array = list()\n",
    "        reviews_array.append({'review_text' : review_text, 'review_stars' : review_stars,\n",
    "                              'polarity' : TextBlob(text).sentiment.polarity,\n",
    "                             'stemmed_text' : text})\n",
    "        rest_review_dict[business_id] = reviews_array"
   ]
  },
  {
   "cell_type": "markdown",
   "metadata": {},
   "source": [
    "#### Latent Dirichlet Allocation (LDA) for Topic Modeling\n",
    "\n",
    "Latent Dirichlet Allocation is the most popular topic modeling technique. LDA assumes documents are produced from a mixture of topics. Those topics then generate words based on their probability distribution. Given a dataset of documents, LDA backtracks and tries to figure out what topics would create those documents in the first place.\n",
    "\n",
    "LDA is a matrix factorization technique. In vector space, any corpus (collection of documents) can be represented as a document-term matrix."
   ]
  },
  {
   "cell_type": "markdown",
   "metadata": {},
   "source": [
    "#### Preparing Document-Term Matrix\n",
    "All the text documents combined is known as the corpus. To run any mathematical model on text corpus, it is a good practice to convert it into a matrix representation. LDA model looks for repeating term patterns in the entire DT matrix. Python provides many great libraries for text mining practices, “gensim” is one such clean and beautiful library to handle text data. It is scalable, robust and efficient. Following code shows how to convert a corpus into a document-term matrix.\n",
    "\n",
    "#### Running LDA Model\n",
    "Next step is to create an object for LDA model and train it on Document-Term matrix. The training also requires few parameters as input. The gensim module allows both LDA model estimation from a training corpus and inference of topic distribution on new, unseen documents."
   ]
  },
  {
   "cell_type": "code",
   "execution_count": 9,
   "metadata": {},
   "outputs": [
    {
     "name": "stderr",
     "output_type": "stream",
     "text": [
      "C:\\Users\\Monas\\Anaconda3\\envs\\deeplearning\\lib\\site-packages\\numpy\\core\\fromnumeric.py:2957: RuntimeWarning: Mean of empty slice.\n",
      "  out=out, **kwargs)\n",
      "C:\\Users\\Monas\\Anaconda3\\envs\\deeplearning\\lib\\site-packages\\numpy\\core\\_methods.py:80: RuntimeWarning: invalid value encountered in double_scalars\n",
      "  ret = ret.dtype.type(ret / rcount)\n"
     ]
    }
   ],
   "source": [
    "import gensim\n",
    "from gensim import corpora, models, similarities\n",
    "\n",
    "\n",
    "business_corpus = dict()\n",
    "for business_id, review_array in rest_review_dict.items():\n",
    "    consolidated_text = [review['stemmed_text'] for review in review_array]\n",
    "    texts = []\n",
    "    for t in consolidated_text :\n",
    "        for word in t.split(\" \") :\n",
    "            texts.append(word)\n",
    "    texts = [texts]\n",
    "    dictionary = corpora.Dictionary(texts)\n",
    "    corpus = [dictionary.doc2bow(text) for text in texts]\n",
    "    \n",
    "    ## Creating the object for LDA model using gensim library\n",
    "    lda = models.LdaModel(corpus=corpus, id2word=dictionary, num_topics=2)\n",
    "    topics = dict()\n",
    "    for topic in lda.top_topics(corpus) :\n",
    "        b = topic[0][0:15]\n",
    "        for tup in b :\n",
    "            if tup[1] not in topics :\n",
    "                topics[tup[1]] = tup[0]\n",
    "            else :\n",
    "                if topics[tup[1]] < tup[0] :\n",
    "                    topics[tup[1]] = tup[0]\n",
    "    \n",
    "    \n",
    "    business_corpus[business_id] = topics"
   ]
  },
  {
   "cell_type": "markdown",
   "metadata": {},
   "source": [
    "#### Result\n",
    "We can check the top topics and the top numbers from our lda model"
   ]
  },
  {
   "cell_type": "code",
   "execution_count": 11,
   "metadata": {},
   "outputs": [
    {
     "name": "stdout",
     "output_type": "stream",
     "text": [
      "[(0, '0.017*\"\" + 0.016*\"sweeping\" + 0.016*\"guys\"'), (1, '0.016*\"wanted\" + 0.015*\"working\" + 0.015*\"husband\"')]\n"
     ]
    }
   ],
   "source": [
    "print(lda.print_topics(num_topics=10, num_words=3))"
   ]
  },
  {
   "cell_type": "code",
   "execution_count": 22,
   "metadata": {
    "scrolled": true
   },
   "outputs": [
    {
     "name": "stdout",
     "output_type": "stream",
     "text": [
      "{'': 0.020021653, 'airport': 0.016872462, 'terminal': 0.009792045, 'security': 0.007875004, 'harbor': 0.006297942, 'sky': 0.0067009623, 'its': 0.006039902, 'time': 0.005759867, 'bus': 0.0050824843, 'long': 0.00472993, 'nice': 0.0045633, 'free': 0.0041222954, 'dont': 0.003928789, 'wifi': 0.0039093425, 'flight': 0.004128684, 'friendly': 0.004289146, 'line': 0.0038695524, 'parking': 0.0037288917}\n"
     ]
    }
   ],
   "source": [
    "print(business_corpus['hW0Ne_HTHEAgGF1rAdmR-g'])"
   ]
  },
  {
   "cell_type": "code",
   "execution_count": 28,
   "metadata": {},
   "outputs": [
    {
     "name": "stdout",
     "output_type": "stream",
     "text": [
      "positive\n",
      "positive\n",
      "positive\n",
      "positive\n",
      "positive\n",
      "{'review_text': \"Sky Harbor is one poor gateway to the city of Phoenix and the Valley of the Sun.  It is outdated, super crowded, it feels dirty and it is the home of US Airways, the biggest carrier in and out of this airport.\\n\\nTerminal 4 is configured rather poorly.  The terminal reminds me of a backwards E, like the second E in EMIN3M, except that there is another prong to the backwards E.  The concourses are not spacious at all, the seating limited, and consequently the crowds spill out into the walkway areas.\\n.  \\nTo go from one end of Terminal 4 to the other necessitates using really narrow moving walkways which are on the spine of the E.  It is really hard to maneuver if you want to pass the throngs given the limited space.  The distances are long, the bruises will be many, either to you but most likely given by you as you negotiate your way between flights.\\n\\nThe other thing that must be mentioned is that Sky Harbor is not a business person's airport but rather a tourist airport.  I think that contributes a lot to the chaos.  When an airport is full of amateurs, like Sky Harbor, there are bottlenecks of humanity in all the wrong places.  Further exacerbating the tourist nature of this airport are the snowbirds who flock here so that they can seek skin cancer in all months of the year, not just summer in their native habitats of the Upper Midwest.\\n\\nGet going on the remodel since it is long overdue and make sure you take in mind the tourists and the business traveler when updating this airport.\", 'review_stars': 2, 'polarity': -0.10007002801120446, 'stemmed_text': 'sky harbor poor gateway city phoenix valley sun outdated super crowded feels dirty home airways biggest carrier airport terminal  configured poorly terminal reminds backwards e like second e eminm prong backwards e concourses spacious all seating limited consequently crowds spill walkway areas  end terminal  necessitates narrow moving walkways spine e hard maneuver want pass throngs given limited space distances long bruises many likely given negotiate way flights thing mentioned sky harbor business persons airport tourist airport think contributes lot chaos airport amateurs like sky harbor bottlenecks humanity wrong places exacerbating tourist nature airport snowbirds flock seek skin cancer months year summer native habitats upper midwest going remodel long overdue sure mind tourists business traveler updating airport'}\n",
      "positive\n",
      "positive\n",
      "{'review_text': 'Rental car review.\\n\\n118 degrees.  Standing outside in the heat waiting for a bus.  10 minutes go by and I have seen 3 busses leave with out of service signs.  Another 10 minutes pass and no active duty busses.  Finally, a bus!  We have a packed bus and the driver is just standing outside.  5 minutes later he comes back on the bus and we drive 10 miles an hour the whole way to the terminal.\\n\\nPHX...pay attention.  Business travelers do not appreciate being left in the heat for 20 minutes watching out of service busses pass by.', 'review_stars': 1, 'polarity': -0.022222222222222223, 'stemmed_text': 'rental car review  degrees standing outside heat waiting bus  minutes seen  busses leave service signs  minutes pass active duty busses finally bus packed bus driver standing outside  minutes later comes bus drive  miles hour way terminal phxpay attention business travelers appreciate left heat  minutes watching service busses pass by'}\n",
      "positive\n",
      "{'review_text': 'Decent airport with a limited variety of food choices and a strange layout. It feels a little outdated but I was only at the airport for a quick layover.', 'review_stars': 3, 'polarity': -0.034821428571428586, 'stemmed_text': 'decent airport limited variety food choices strange layout feels little outdated airport quick layover'}\n",
      "positive\n",
      "positive\n",
      "{'review_text': \"This airport is the most confusing airport I've ever been to.  Obviously it was meant to be small and was originally probably very efficient, but since they have added terminals it makes no sense and you will see the sign you need as you are passing it, instead of having a sign a mile or so ahead telling you were to go.\", 'review_stars': 3, 'polarity': -0.04375000000000001, 'stemmed_text': 'airport confusing airport ive to obviously meant small originally probably efficient added terminals makes sense sign need passing it instead having sign mile ahead telling go'}\n",
      "positive\n",
      "positive\n",
      "{'review_text': 'such a confusing airport', 'review_stars': 2, 'polarity': -0.3, 'stemmed_text': 'confusing airport'}\n",
      "positive\n",
      "positive\n",
      "positive\n",
      "positive\n",
      "positive\n",
      "positive\n",
      "{'review_text': 'Average airport. \\n\\nI wish gate Marques listed which zone was boarding. There were three airplanes loading at the same time and it was near impossible to tell which gate was loading which zone. We just waited a few minutes and rolled the dice that our zone was loading.', 'review_stars': 3, 'polarity': -0.23888888888888885, 'stemmed_text': 'average airport wish gate marques listed zone boarding airplanes loading time near impossible tell gate loading zone waited minutes rolled dice zone loading'}\n",
      "positive\n",
      "positive\n",
      "positive\n",
      "positive\n",
      "positive\n",
      "positive\n",
      "positive\n",
      "positive\n",
      "positive\n",
      "positive\n"
     ]
    }
   ],
   "source": [
    "all_reviews = rest_review_dict['hW0Ne_HTHEAgGF1rAdmR-g']\n",
    "\n",
    "business_reviews = []\n",
    "positive_topics = []\n",
    "negative_topics = []\n",
    "for review in all_reviews :\n",
    "    if review['polarity'] < 0 :\n",
    "        print ('negative')\n",
    "    else :\n",
    "        print ('positive')"
   ]
  },
  {
   "cell_type": "code",
   "execution_count": null,
   "metadata": {},
   "outputs": [],
   "source": []
  }
 ],
 "metadata": {
  "kernelspec": {
   "display_name": "Python 3",
   "language": "python",
   "name": "python3"
  },
  "language_info": {
   "codemirror_mode": {
    "name": "ipython",
    "version": 3
   },
   "file_extension": ".py",
   "mimetype": "text/x-python",
   "name": "python",
   "nbconvert_exporter": "python",
   "pygments_lexer": "ipython3",
   "version": "3.6.5"
  }
 },
 "nbformat": 4,
 "nbformat_minor": 2
}
