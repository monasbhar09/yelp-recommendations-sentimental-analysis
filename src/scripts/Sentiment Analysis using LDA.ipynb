{
 "cells": [
  {
   "cell_type": "markdown",
   "metadata": {},
   "source": [
    "# Sentiment Analysis using LDA\n",
    "\n",
    "Businesses often want to know how customers think about the quality of their services to improve and make more profits. Restaurant goers may want to learn from others' experience using a variety of criteria such as food quality, service, ambience, discounts and worthiness. Yelp users may post their reviews and ratings on businesses and services or simply express their thoughts on other reviews. Bad (negative) reviews from one's perspective may influence potential customers in making decisions, e.g., a potential customer may cancel a service and persuade other do the same."
   ]
  },
  {
   "cell_type": "markdown",
   "metadata": {},
   "source": [
    "#### Topic Modelling\n",
    "\n",
    "As the name suggests, it is a process to automatically identify topics present in a text object and to derive hidden patterns exhibited by a text corpus. Thus, assisting better decision making.\n",
    "\n",
    "Topic Modelling is different from rule-based text mining approaches that use regular expressions or dictionary based keyword searching techniques. It is an unsupervised approach used for finding and observing the bunch of words (called “topics”) in large clusters of texts.\n",
    "\n",
    "Topics can be defined as “a repeating pattern of co-occurring terms in a corpus”\n",
    "\n",
    "Topic Models are very useful for the purpose for document clustering, organizing large blocks of textual data, information retrieval from unstructured text and feature selection."
   ]
  },
  {
   "cell_type": "code",
   "execution_count": 6,
   "metadata": {
    "collapsed": true
   },
   "outputs": [],
   "source": [
    "import pandas as pd\n",
    "import numpy as np\n",
    "import gensim\n",
    "from textblob import TextBlob\n",
    "import re\n",
    "import nltk\n",
    "from nltk.corpus import stopwords\n",
    "from nltk.stem.porter import PorterStemmer as ps\n",
    "from nltk.stem.wordnet import WordNetLemmatizer\n",
    "import string\n",
    "from gensim.parsing.preprocessing import STOPWORDS"
   ]
  },
  {
   "cell_type": "markdown",
   "metadata": {},
   "source": [
    "#### Reading the json file"
   ]
  },
  {
   "cell_type": "code",
   "execution_count": 7,
   "metadata": {
    "collapsed": true
   },
   "outputs": [],
   "source": [
    "path = 'Filtered_review_10K.json'\n",
    "df = pd.read_json(path, orient='records', lines=True)"
   ]
  },
  {
   "cell_type": "markdown",
   "metadata": {},
   "source": [
    "#### Preparing Documents\n",
    "Cleaning is an important step before any text mining task, in this step, we will remove the punctuations, stopwords and normalize the corpus."
   ]
  },
  {
   "cell_type": "code",
   "execution_count": 8,
   "metadata": {
    "collapsed": true
   },
   "outputs": [],
   "source": [
    "import re\n",
    "\n",
    "rest_review_dict = dict()\n",
    "for temp in df.iterrows() :\n",
    "    row = temp[1]\n",
    "    business_id = row.business_id\n",
    "    \n",
    "    exclude = set(string.punctuation)\n",
    "    \n",
    "    \n",
    "    review_text = row['text']\n",
    "    stop_free = ' '.join([word for word in review_text.lower().split() if word not in STOPWORDS])\n",
    "    stop_punc = ''.join(ch for ch in stop_free if ch not in exclude)\n",
    "    text = ''.join([i for i in stop_punc if not i.isdigit()])\n",
    "    \n",
    "    review_stars = row['stars']\n",
    "    \n",
    "    if business_id in rest_review_dict :\n",
    "        reviews_array = rest_review_dict[business_id]\n",
    "        reviews_array.append({'review_text' : review_text, 'review_stars' : review_stars,\n",
    "                              'polarity' : TextBlob(text).sentiment.polarity,\n",
    "                             'stemmed_text' : text})\n",
    "    else :\n",
    "        reviews_array = list()\n",
    "        reviews_array.append({'review_text' : review_text, 'review_stars' : review_stars,\n",
    "                              'polarity' : TextBlob(text).sentiment.polarity,\n",
    "                             'stemmed_text' : text})\n",
    "        rest_review_dict[business_id] = reviews_array"
   ]
  },
  {
   "cell_type": "markdown",
   "metadata": {},
   "source": [
    "#### Latent Dirichlet Allocation (LDA) for Topic Modeling\n",
    "\n",
    "Latent Dirichlet Allocation is the most popular topic modeling technique. LDA assumes documents are produced from a mixture of topics. Those topics then generate words based on their probability distribution. Given a dataset of documents, LDA backtracks and tries to figure out what topics would create those documents in the first place.\n",
    "\n",
    "LDA is a matrix factorization technique. In vector space, any corpus (collection of documents) can be represented as a document-term matrix."
   ]
  },
  {
   "cell_type": "markdown",
   "metadata": {},
   "source": [
    "#### Preparing Document-Term Matrix\n",
    "All the text documents combined is known as the corpus. To run any mathematical model on text corpus, it is a good practice to convert it into a matrix representation. LDA model looks for repeating term patterns in the entire DT matrix. Python provides many great libraries for text mining practices, “gensim” is one such clean and beautiful library to handle text data. It is scalable, robust and efficient. Following code shows how to convert a corpus into a document-term matrix.\n",
    "\n",
    "#### Running LDA Model\n",
    "Next step is to create an object for LDA model and train it on Document-Term matrix. The training also requires few parameters as input. The gensim module allows both LDA model estimation from a training corpus and inference of topic distribution on new, unseen documents."
   ]
  },
  {
   "cell_type": "code",
   "execution_count": 9,
   "metadata": {},
   "outputs": [
    {
     "name": "stderr",
     "output_type": "stream",
     "text": [
      "C:\\Users\\Monas\\Anaconda3\\envs\\deeplearning\\lib\\site-packages\\numpy\\core\\fromnumeric.py:2957: RuntimeWarning: Mean of empty slice.\n",
      "  out=out, **kwargs)\n",
      "C:\\Users\\Monas\\Anaconda3\\envs\\deeplearning\\lib\\site-packages\\numpy\\core\\_methods.py:80: RuntimeWarning: invalid value encountered in double_scalars\n",
      "  ret = ret.dtype.type(ret / rcount)\n"
     ]
    }
   ],
   "source": [
    "import gensim\n",
    "from gensim import corpora, models, similarities\n",
    "\n",
    "\n",
    "business_corpus = dict()\n",
    "for business_id, review_array in rest_review_dict.items():\n",
    "    consolidated_text = [review['stemmed_text'] for review in review_array]\n",
    "    texts = []\n",
    "    for t in consolidated_text :\n",
    "        for word in t.split(\" \") :\n",
    "            texts.append(word)\n",
    "    texts = [texts]\n",
    "    dictionary = corpora.Dictionary(texts)\n",
    "    corpus = [dictionary.doc2bow(text) for text in texts]\n",
    "    \n",
    "    ## Creating the object for LDA model using gensim library\n",
    "    lda = models.LdaModel(corpus=corpus, id2word=dictionary, num_topics=2)\n",
    "    topics = dict()\n",
    "    for topic in lda.top_topics(corpus) :\n",
    "        b = topic[0][0:15]\n",
    "        for tup in b :\n",
    "            if tup[1] not in topics :\n",
    "                topics[tup[1]] = tup[0]\n",
    "            else :\n",
    "                if topics[tup[1]] < tup[0] :\n",
    "                    topics[tup[1]] = tup[0]\n",
    "    \n",
    "    \n",
    "    business_corpus[business_id] = topics"
   ]
  },
  {
   "cell_type": "markdown",
   "metadata": {},
   "source": [
    "#### Result\n",
    "We can check the top topics and the top numbers from our lda model"
   ]
  },
  {
   "cell_type": "code",
   "execution_count": 11,
   "metadata": {},
   "outputs": [
    {
     "name": "stdout",
     "output_type": "stream",
     "text": [
      "[(0, '0.017*\"\" + 0.016*\"sweeping\" + 0.016*\"guys\"'), (1, '0.016*\"wanted\" + 0.015*\"working\" + 0.015*\"husband\"')]\n"
     ]
    }
   ],
   "source": [
    "print(lda.print_topics(num_topics=10, num_words=3))"
   ]
  },
  {
   "cell_type": "code",
   "execution_count": 22,
   "metadata": {
    "scrolled": true
   },
   "outputs": [
    {
     "name": "stdout",
     "output_type": "stream",
     "text": [
      "{'': 0.020021653, 'airport': 0.016872462, 'terminal': 0.009792045, 'security': 0.007875004, 'harbor': 0.006297942, 'sky': 0.0067009623, 'its': 0.006039902, 'time': 0.005759867, 'bus': 0.0050824843, 'long': 0.00472993, 'nice': 0.0045633, 'free': 0.0041222954, 'dont': 0.003928789, 'wifi': 0.0039093425, 'flight': 0.004128684, 'friendly': 0.004289146, 'line': 0.0038695524, 'parking': 0.0037288917}\n"
     ]
    }
   ],
   "source": [
    "print(business_corpus['hW0Ne_HTHEAgGF1rAdmR-g'])"
   ]
  },
  {
   "cell_type": "code",
   "execution_count": 38,
   "metadata": {},
   "outputs": [
    {
     "name": "stdout",
     "output_type": "stream",
     "text": [
      "Positive review: luckily didnt travel far connecting flight this thank you phoenix brief layover pleasant employees kind flight time hopefully time grace phoenix presence little longer\n",
      "Positive review: beach paradise ixtapazihuatenejo awaited usunfortunately connecting flight arizona places long story short luggage arrive final destination articles clothing missing cell phone chargernot mention security forcing open sealed containers sons baby food milk litmus tests looked bright sideat didnt deported \n",
      "Positive review: plenty airports world better end easy navigate clean from experienced makes getting returning rental cars breeze airports recent travel hold security check line think want prepared check quickly possible held breath young lady came search  quart zip lock bag fearing evacuate terminal breech able flights word pet lovers insist traveling fourlegged friends allergies asthma plague large number people difficulty breathing caused pet presents unexpected glitch travel day consider leaving pets home unplanned trip er result inconsideration responsibility that health care providers travels time stuck hairiest cat seen life owners baggage humanly possible manage clueless distress owners pet left wheezing sneezing itching gasping travelers wake naperville\n",
      "Positive review: pain of dread trip place\n",
      "Positive review: home airport work travel im passing often prefer terminal  variety eatingdrinking options preflight enjoyment   ok dont offer amenities theyre crowded nice plus also free wifi rarely lost honest security issue lines long going gates term  fairly quickly dont bodyscans my personal choice choose same crap conveyor belt note body scanners alert tsa person let know youll need patdown or groping feelup wanna  electing takes longer security prefer plan ahead also digital boarding pass iphone android different gate they connected runways etc line gate youre supposed through note able scan digital boarding pass happened went gate significantly shorter line luckily kiosk ran line printed hubby held spot fyi\n",
      "Negative review: sky harbor poor gateway city phoenix valley sun outdated super crowded feels dirty home airways biggest carrier airport terminal  configured poorly terminal reminds backwards e like second e eminm prong backwards e concourses spacious all seating limited consequently crowds spill walkway areas  end terminal  necessitates narrow moving walkways spine e hard maneuver want pass throngs given limited space distances long bruises many likely given negotiate way flights thing mentioned sky harbor business persons airport tourist airport think contributes lot chaos airport amateurs like sky harbor bottlenecks humanity wrong places exacerbating tourist nature airport snowbirds flock seek skin cancer months year summer native habitats upper midwest going remodel long overdue sure mind tourists business traveler updating airport\n",
      "Positive review: layovers airport colorado california liked it ton places eat fantastic flights left time kinda annoying got  minutes late ended getting stuck  hours free internet access helped though its airport dont mind stuck bit\n",
      "Positive review: clean sky harbor dont mind flying airport flight attendants nice security fast thorough dislike lady works security rude reason probably wouldnt bugged werent fact  pm worked double forced fly ohiowhere cold snow ground oh mention spring break anyway stores nice good nice items buy flight occupied flights time majority time arent warn you cough cough cleveland hopkins international cough cough suppose use remodeling\n",
      "Negative review: rental car review  degrees standing outside heat waiting bus  minutes seen  busses leave service signs  minutes pass active duty busses finally bus packed bus driver standing outside  minutes later comes bus drive  miles hour way terminal phxpay attention business travelers appreciate left heat  minutes watching service busses pass by\n",
      "Positive review: its called americas friendliest airport reason truly embodies world class service all love its clean great places eat smiling faces great esp tsa\n",
      "Negative review: decent airport limited variety food choices strange layout feels little outdated airport quick layover\n",
      "Positive review: its airport exactly look forexpect establishment currently want free wifi most free wifi sky harbor check secondly convenient economy parking must convenient economy parking sky harbor check mention shuttle drivers friendly small talkready tsa folks smile playfully banter travelers readily airports sky harbors americas friendliest airport marketing ploy case its certainly remark about doubt phoenix turn sort true travel hub near future nonstop international flights certainly welcomed demand clearly defined well content flights europe canada mexico lone wolf costa rica excited sky train completed operational stage scheduled running  allow connections light rail offer new mode transportation east economy lot terminal  ive seen previous reviews complaining having security changing terminals actually case airports world terminal secure area leave naturally screened again exceptions easiest way circumvent fly airline point way point b youre connecting sky harbor flying airwaysunited southwest avoid terminal change youre flying carriers youre overcomplicating things look different routing central location sky harbor makes extremely accessible people living parts valley huge plus considering location airports outside corresponding metropolitan areas all theres significant complain sky harbor ps fox sports grill sky harbor true embarrassment expect great deal airport restaurants kraft macncheese this probably poor example kmnc provides perfect vehicle truly delicious creations far superior youre serving end all fact\n",
      "Positive review: absolutely fun connection airport definitely designed post friendly let example know mean fly san francisco told building bus plane walkand walkand walk more looking trying order catch bus finally told go walked walked walked finally caught bus correct gate security again flash forward  days fly customs this btw great experience international flight going customs rechecked luggage told building yep know saywe floundered around having ask times finally right place got bus proceeded parking lots dropping picking passengers husband looked other worried wrong bus  pm lunch getting worried time grab lunch finally husband asked driver indicated right bus continued going parking lots came bus driver told bus sit wait  minutes bus quicker course grabbed suitcases boarded bus proceeded correct stop after picking additional passengers way we entered terminal jumped elevator security line  lines course got line family   times kept trying security line belts on shoes on liquids suitcasesyou picture anyway finally got gate able grab slice pizza boarding plane not enduring antics yearold united airlines powerhungry granny couldnt act together determined boss\n",
      "Negative review: airport confusing airport ive to obviously meant small originally probably efficient added terminals makes sense sign need passing it instead having sign mile ahead telling go\n",
      "Positive review: nice clean airport lots places shop lots food options terminal  nice things  marathon walk southwest ticket counter d gatesgood god need tram moving walkway  security bag screening machines old tiny bag got stuck its problem airport ive smf las sna ont san bur sea lax oh rent car sure allow extra time shuttle ride tofrom airport  minutes its nice rental car area\n",
      "Positive review: review based terminal  delta getting checked delta quick security line quick returning picking bags quick too signs easy read easy understand nassau bahamas airport signs pointed everywhere crazy\n",
      "Negative review: confusing airport\n",
      "Positive review: flew and into airport holidays process painless inside airport setup roads ramps terminals absolutely convoluted ive confusing airport regards traffic said inside quick checkin bags checked traveling puppy warmly welcomed everyone staff otherwise issue out unlike airports huge perk dog park outside terminal  walk dogs beforeafter flying feel lot nervous  hour trip country im sure dachshund lot happier too\n",
      "Positive review: ive flown pheonix airport southwest ive section airport isnt great food choices slim fab mean airport fab food wait dfw does anyway sky harbor great view decently clean restrooms\n",
      "Positive review: want good food youd better smuggling goat cheese boot risking anal cavity search eating airport want scenery try desert want comfortable seat wait delayed flight desert youd probably better finding cactus straddling face first want relatively close connection flight tough shit oh yeah theyve got people movers magical ability disengage peoples legs yeah know sounds crazy soon people step things legs stop moving plant fat ass right middle walk way whats wrong legs mammoth\n",
      "Positive review: americas friendliest airport really disagree didnt particularly notice overly nice particularly friendly here notice selection mediocre overpriced we captive audience were going offer crap charge arm leg it bars restaurants hate provincial come pdx time check local restaurants bars its done plus star free wifi woot airport free wifi im looking you sfo\n",
      "Positive review: home airport nicest terminals usa great food cool things do cant bored here\n",
      "Positive review: havent  man memories cant wait situated az couple days \n",
      "Negative review: average airport wish gate marques listed zone boarding airplanes loading time near impossible tell gate loading zone waited minutes rolled dice zone loading\n",
      "Positive review: great place maintained its big airport long walks\n",
      "Positive review: nice placeneed restaurants pretty huge airportso long walks\n",
      "Positive review: mid size american airport good organization straight forward hassle security little slow priority lane isnt priority its lets fun class flyers getting pissed lane lets welcome class flyers big giggle stores food quality okay seating areas limited terminal  security aware lots volunteers working guide right place volunteers passengers haha\n",
      "Positive review: ive known way sky harbor airport  years old terminal  actual terminal time then attempts improve airport transportation parking terminals extremely confusing wrong lane youll end parking garage wanted drop departures curb terminal  remains accessible parking lot located street airlines stationed there couple airlines use terminal security breeze however its oldest terminal smells bad like rotten pizza doesnt appear clean terminal  little hassle parking garage attached terminal allowing enter level elevator airlines use terminal its smaller terminal  making easier navigate oh terminal  youre nice new clean access great restaurants like flos shanghai cafe einsteins quiznos more love taberna del tequila drink prior flight inside security access i dont like fly prefer bloody mary prior boarding tons shops borders books local az tourist junk like love you mess its way difficult navigate lanes youre going pick drop dangerous people pull away curb lanes looking security painful long line tsa agents regularly yell people pay attention dread flying terminal  leave extra early bs easier airports navigate use were stuck sky harbor hope light rail access complete help making user friendly airport\n",
      "Positive review: busy place nice having cell lot late baggage original destination charge lot deliver better bags checked  mn early\n",
      "Positive review: age old debate length v girth sky harbor clearly proponent length swear airport miles long connection well good luck running entire airport people mover people mover its long long long long line hallways people movers again but theyve got free wifi oh works  time well itll do cleanish bathrooms loads options far airport eateries go thing away review let this length isnt answer\n",
      "Positive review: dont know airports major lack seating staff friendly security quick wish theyd work gate areas add seats need example sacramento internationals new terminal\n",
      "Positive review: walk sky harbor bombarded declarations its countrys friendliest airport huh mean userfriendly friendly youll feel home here way didnt know extremely important pr group sign wifi cant change pages rate friendly airport drop menu disservice proclaiming superlative congeniality expectations run high  me free wifi extremely friendly yeah star that denlike check area at terminal  friendly left feeling little depressed tsa officer confiscated  oz apparenly its  oz phx neutrogena sun screen friendlybut malicious guess wouldnt friendly charged monitoring tenths ounces hour hour spokesecurity friendly users retail like seeing plethora places purchase items security leaving outlets browse little concourse hate wondering gates  purchase concourse vacant others security retail let wander bit overall bad airport all friendliest dont know free wifi certainly leave smile face\n",
      "Positive review: unlike airports ive options food massive conglomerate chain restaurants like mcdonalds burger king sky harbor nice array local higher quality restaurants choose eg la grande orange olive ivy barrio cafe healthier choices compared eating greasy burger fries eg paradise bakery lot good parking options choose airports parking lot private lots provide shuttle service appreciate free wifi definitely helps whittle time away waiting flight\n",
      "Positive review: connect fly airways las vegas everytime stop here major track bay area dont mind coming its maintained airport look old clean im   hours time cant help notice restaurants here youre hungry dont mind airport prices fear selection here prepared walk close mile connecting flight theres long hallways here dont worry standing walking escalators\n"
     ]
    }
   ],
   "source": [
    "all_reviews = rest_review_dict['hW0Ne_HTHEAgGF1rAdmR-g']\n",
    "\n",
    "business_reviews = []\n",
    "for review in all_reviews :\n",
    "    if review['polarity'] < 0 :\n",
    "        print ('Negative review: ' + review['stemmed_text'])\n",
    "    else :\n",
    "        print ('Positive review: ' + review['stemmed_text'])"
   ]
  },
  {
   "cell_type": "markdown",
   "metadata": {},
   "source": [
    "### License:\n",
    "\n",
    "The text in the document by Shrikant Mudholkar, Varsha Bhanushali and Monas Bhar is licensed under CC BY 3.0 https://creativecommons.org/licenses/by/3.0/us/\n",
    "\n",
    "The code in the document by Shrikant Mudholkar, Varsha Bhanushali and Monas Bhar is licensed under the MIT License https://opensource.org/licenses/MIT"
   ]
  },
  {
   "cell_type": "code",
   "execution_count": null,
   "metadata": {
    "collapsed": true
   },
   "outputs": [],
   "source": []
  }
 ],
 "metadata": {
  "kernelspec": {
   "display_name": "Python 3",
   "language": "python",
   "name": "python3"
  },
  "language_info": {
   "codemirror_mode": {
    "name": "ipython",
    "version": 3
   },
   "file_extension": ".py",
   "mimetype": "text/x-python",
   "name": "python",
   "nbconvert_exporter": "python",
   "pygments_lexer": "ipython3",
   "version": "3.6.3"
  }
 },
 "nbformat": 4,
 "nbformat_minor": 2
}
