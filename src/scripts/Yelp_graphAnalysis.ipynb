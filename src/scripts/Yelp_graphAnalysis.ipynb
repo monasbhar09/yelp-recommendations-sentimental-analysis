{
 "cells": [
  {
   "cell_type": "code",
   "execution_count": 1,
   "metadata": {},
   "outputs": [],
   "source": [
    "# ACCESS_KEY = \"\"\n",
    "# SECRET_KEY = \"\"\n",
    "ENCODED_SECRET_KEY = SECRET_KEY.replace(\"/\", \"%2F\")\n",
    "# AWS_BUCKET_NAME = \"\"\n",
    "MOUNT_NAME = \"yelp-mount\"\n",
    "\n",
    "dbutils.fs.mount(\"s3a://%s:%s@%s\" % (ACCESS_KEY, ENCODED_SECRET_KEY, AWS_BUCKET_NAME), \"/mnt/%s\" % MOUNT_NAME)"
   ]
  },
  {
   "cell_type": "code",
   "execution_count": 2,
   "metadata": {},
   "outputs": [],
   "source": [
    "#Add Graphframes library to databricks\n",
    "from graphframes import *"
   ]
  },
  {
   "cell_type": "code",
   "execution_count": 3,
   "metadata": {},
   "outputs": [],
   "source": [
    "from pyspark.sql.types import *\n",
    "from pyspark.sql.functions import *\n",
    "inputPath = \"dbfs:/mnt/yelp-mount\"\n",
    "\n",
    "reviewdf = spark.read.json(inputPath+\"/review.json\")"
   ]
  },
  {
   "cell_type": "code",
   "execution_count": 4,
   "metadata": {},
   "outputs": [],
   "source": [
    "business = sqlContext.read.json(\"/FileStore/tables/filtered_business.json\")\n",
    "business.registerTempTable(\"business\")"
   ]
  },
  {
   "cell_type": "code",
   "execution_count": 5,
   "metadata": {},
   "outputs": [],
   "source": [
    "%sql select * from business"
   ]
  },
  {
   "cell_type": "code",
   "execution_count": 6,
   "metadata": {},
   "outputs": [],
   "source": [
    "userdf = sqlContext.read.json(\"/FileStore/tables/user.json\")\n",
    "userdf.registerTempTable('allUserTable')"
   ]
  },
  {
   "cell_type": "code",
   "execution_count": 7,
   "metadata": {},
   "outputs": [],
   "source": [
    "reviewdf.registerTempTable('reviewTable')"
   ]
  },
  {
   "cell_type": "code",
   "execution_count": 8,
   "metadata": {},
   "outputs": [],
   "source": [
    "from pyspark.sql import SQLContext\n",
    "from pyspark.sql.types import *\n",
    "\n",
    "# sc is an existing SparkContext.\n",
    "sqlContext = SQLContext(sc)\n",
    "filteredUserDf = sqlContext.sql(\"select * from allUserTable where user_id in (select user_id from reviewTable where business_id in (select business_id from business))\")"
   ]
  },
  {
   "cell_type": "code",
   "execution_count": 9,
   "metadata": {},
   "outputs": [],
   "source": [
    "\n",
    "userdf_exploded = filteredUserDf.withColumn('friends', explode('friends'))\n",
    "userdf_exploded.registerTempTable(\"userTable\")"
   ]
  },
  {
   "cell_type": "code",
   "execution_count": 10,
   "metadata": {},
   "outputs": [],
   "source": [
    "%sql select * from userTable"
   ]
  },
  {
   "cell_type": "code",
   "execution_count": 11,
   "metadata": {},
   "outputs": [],
   "source": [
    "userVertices = userdf_exploded.withColumnRenamed(\"user_id\", \"id\").distinct()\n",
    "friendsEdges = userdf_exploded.withColumnRenamed(\"user_id\", \"src\").withColumnRenamed(\"friends\", \"dst\")\n",
    "  \n",
    "  \n",
    "Friendgraph = GraphFrame(userVertices,  friendsEdges)\n"
   ]
  },
  {
   "cell_type": "code",
   "execution_count": 12,
   "metadata": {},
   "outputs": [],
   "source": [
    "display(userVertices)"
   ]
  },
  {
   "cell_type": "code",
   "execution_count": 13,
   "metadata": {},
   "outputs": [],
   "source": [
    "display(Friendgraph.vertices)"
   ]
  },
  {
   "cell_type": "code",
   "execution_count": 14,
   "metadata": {},
   "outputs": [],
   "source": [
    "display(Friendgraph.inDegrees)\n"
   ]
  },
  {
   "cell_type": "code",
   "execution_count": 15,
   "metadata": {},
   "outputs": [],
   "source": [
    "results = Friendgraph.pageRank(resetProbability=0.15, maxIter=10)"
   ]
  },
  {
   "cell_type": "code",
   "execution_count": 16,
   "metadata": {},
   "outputs": [],
   "source": [
    "display(results.vertices.select(\"id\", \"pagerank\"))"
   ]
  },
  {
   "cell_type": "code",
   "execution_count": 17,
   "metadata": {},
   "outputs": [],
   "source": [
    "user_MaxReviewCount = Friendgraph.vertices.groupBy().max(\"review_count\")\n",
    "display(user_MaxReviewCount)"
   ]
  },
  {
   "cell_type": "code",
   "execution_count": 18,
   "metadata": {},
   "outputs": [],
   "source": [
    "findUsersLink = Friendgraph.bfs(\"review_count > 2000\", \"name ='Edward'\", \"fans > 50\" )\n",
    "display(findUserLink)"
   ]
  },
  {
   "cell_type": "code",
   "execution_count": 19,
   "metadata": {},
   "outputs": [],
   "source": [
    "results = Friendgraph.find(\"(A)-[]->(B); (B)-[]->(C); !(A)-[]->(C)\")\n",
    "\n",
    "# Filter out loops (with DataFrame operation)\n",
    "\n",
    "results = results.filter(\"A.id != C.id\")\n",
    "\n",
    "# Select recommendations for A to follow C\n",
    "\n",
    "results = results.select(\"A\", \"C\")\n",
    "\n",
    "display(results)"
   ]
  },
  {
   "cell_type": "code",
   "execution_count": 20,
   "metadata": {},
   "outputs": [],
   "source": [
    ""
   ]
  }
 ],
 "metadata": {
  "name": "Yelp_graphAnalysis",
  "notebookId": 3.79176502981527E14
 },
 "nbformat": 4,
 "nbformat_minor": 0
}
