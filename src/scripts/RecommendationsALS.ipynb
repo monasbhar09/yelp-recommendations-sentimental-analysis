{
 "cells": [
  {
   "cell_type": "markdown",
   "metadata": {},
   "source": [
    "## Preprocessing for ALS Modelling\n",
    "\n",
    "For training ALS model using spark mlib library, we need to join user.json, review.json and business.json "
   ]
  },
  {
   "cell_type": "code",
   "execution_count": 1,
   "metadata": {},
   "outputs": [],
   "source": [
    "from pyspark.sql.functions import *\n",
    "\n",
    "inputPath = \"dataset/\"\n",
    "from pyspark.context import SparkContext\n",
    "from pyspark.sql.session import SparkSession\n",
    "sc = SparkContext('local')\n",
    "spark = SparkSession(sc)"
   ]
  },
  {
   "cell_type": "code",
   "execution_count": 2,
   "metadata": {},
   "outputs": [],
   "source": [
    "userDf = spark.read.json(inputPath+\"user.json\")"
   ]
  },
  {
   "cell_type": "code",
   "execution_count": 3,
   "metadata": {},
   "outputs": [],
   "source": [
    "reviewDf = spark.read.json(inputPath+\"review.json\")"
   ]
  },
  {
   "cell_type": "code",
   "execution_count": 4,
   "metadata": {},
   "outputs": [],
   "source": [
    "filteredBusinessDf = spark.read.json('business_restaurant.json')"
   ]
  },
  {
   "cell_type": "markdown",
   "metadata": {},
   "source": [
    "Spark mlib library for collaborative filtering requires unique business and user id to created in numeric format to be able to train our model"
   ]
  },
  {
   "cell_type": "code",
   "execution_count": 8,
   "metadata": {},
   "outputs": [],
   "source": [
    "userDf = userDf.withColumn(\"user_unique_user_id\",monotonically_increasing_id())\n",
    "filteredBusinessDf = filteredBusinessDf.withColumn(\"unique_business_id\",monotonically_increasing_id())"
   ]
  },
  {
   "cell_type": "code",
   "execution_count": 9,
   "metadata": {},
   "outputs": [],
   "source": [
    "filteredBusinessDf.createOrReplaceTempView(\"business\")\n",
    "userDf.createOrReplaceTempView(\"user\")\n",
    "reviewDf.createOrReplaceTempView(\"review\")"
   ]
  },
  {
   "cell_type": "code",
   "execution_count": 10,
   "metadata": {},
   "outputs": [
    {
     "data": {
      "text/plain": [
       "DataFrame[average_stars: double, compliment_cool: bigint, compliment_cute: bigint, compliment_funny: bigint, compliment_hot: bigint, compliment_list: bigint, compliment_more: bigint, compliment_note: bigint, compliment_photos: bigint, compliment_plain: bigint, compliment_profile: bigint, compliment_writer: bigint, cool: bigint, elite: array<bigint>, fans: bigint, friends: array<string>, funny: bigint, name: string, review_count: bigint, useful: bigint, user_id: string, yelping_since: string, user_unique_user_id: bigint]"
      ]
     },
     "metadata": {},
     "output_type": "display_data"
    }
   ],
   "source": [
    "display(userDf)"
   ]
  },
  {
   "cell_type": "code",
   "execution_count": 12,
   "metadata": {},
   "outputs": [],
   "source": [
    "from pyspark.sql import SQLContext\n",
    "sqlContext = SQLContext(sc)"
   ]
  },
  {
   "cell_type": "markdown",
   "metadata": {},
   "source": [
    "For each state, we load the json file containing a combined view of user reviews and restaurants"
   ]
  },
  {
   "cell_type": "code",
   "execution_count": 24,
   "metadata": {},
   "outputs": [],
   "source": [
    "df = sqlContext.sql('select user_unique_user_id,unique_business_id, review.stars, state from review inner join business on business.business_id = review.business_id inner join user on user.user_id = review.user_id where user_unique_user_id < 2000000000 and unique_business_id < 2000000000')"
   ]
  },
  {
   "cell_type": "markdown",
   "metadata": {},
   "source": [
    "Save state wise filtered business reviews given by users file to be used later by Yelp-MLib-ALS file to create state wise ALS Models"
   ]
  },
  {
   "cell_type": "code",
   "execution_count": 45,
   "metadata": {
    "collapsed": true
   },
   "outputs": [],
   "source": [
    "import pandas as pd\n",
    "\n",
    "NC_rest_df = df[df['state']==\"NC\"]\n",
    "d = NC_rest_df.toPandas()"
   ]
  },
  {
   "cell_type": "code",
   "execution_count": 47,
   "metadata": {
    "collapsed": true
   },
   "outputs": [],
   "source": [
    "d.to_json('NC_business.json', orient='records', lines=True)"
   ]
  },
  {
   "cell_type": "code",
   "execution_count": 48,
   "metadata": {
    "collapsed": true
   },
   "outputs": [],
   "source": [
    "OH_rest_df = df[df['state']==\"OH\"]\n",
    "oh = OH_rest_df.toPandas()\n",
    "oh.to_json('OH_business.json', orient='records', lines=True)"
   ]
  },
  {
   "cell_type": "code",
   "execution_count": 49,
   "metadata": {
    "collapsed": true
   },
   "outputs": [],
   "source": [
    "ON_rest_df = df[df['state']==\"ON\"]\n",
    "on = ON_rest_df.toPandas()\n",
    "on.to_json('ON_business.json', orient='records', lines=True)"
   ]
  },
  {
   "cell_type": "code",
   "execution_count": 50,
   "metadata": {
    "collapsed": true
   },
   "outputs": [],
   "source": [
    "NV_rest_df = df[df['state']==\"NV\"]\n",
    "nv = NV_rest_df.toPandas()\n",
    "nv.to_json('NV_business.json', orient='records', lines=True)"
   ]
  },
  {
   "cell_type": "code",
   "execution_count": 51,
   "metadata": {
    "collapsed": true
   },
   "outputs": [],
   "source": [
    "AZ_rest_df = df[df['state']==\"AZ\"]\n",
    "az = AZ_rest_df.toPandas()\n",
    "az.to_json('AZ_business.json', orient='records', lines=True)"
   ]
  },
  {
   "cell_type": "markdown",
   "metadata": {},
   "source": [
    "Storing business details for top states to be used by the flask application to get deatils of the restaurants recommended"
   ]
  },
  {
   "cell_type": "code",
   "execution_count": 25,
   "metadata": {},
   "outputs": [],
   "source": [
    "df = sqlContext.sql('select user_unique_user_id,unique_business_id, review.stars, state, business.business_id, business.name, business.address from review inner join business on business.business_id = review.business_id inner join user on user.user_id = review.user_id where user_unique_user_id < 2000000000 and unique_business_id < 2000000000')"
   ]
  },
  {
   "cell_type": "code",
   "execution_count": 26,
   "metadata": {},
   "outputs": [
    {
     "data": {
      "text/plain": [
       "DataFrame[user_unique_user_id: bigint, unique_business_id: bigint, stars: bigint, state: string, business_id: string, name: string, address: string]"
      ]
     },
     "metadata": {},
     "output_type": "display_data"
    }
   ],
   "source": [
    "display(df)"
   ]
  },
  {
   "cell_type": "code",
   "execution_count": 27,
   "metadata": {},
   "outputs": [],
   "source": [
    "import pandas as pd\n",
    "\n",
    "NC_rest_df = df[df['state']==\"NC\"]\n",
    "d = NC_rest_df.toPandas()\n",
    "d.to_json('NC_business_details.json', orient='records', lines=True)"
   ]
  },
  {
   "cell_type": "code",
   "execution_count": 28,
   "metadata": {},
   "outputs": [],
   "source": [
    "OH_rest_df = df[df['state']==\"OH\"]\n",
    "oh = OH_rest_df.toPandas()\n",
    "oh.to_json('OH_business_details.json', orient='records', lines=True)"
   ]
  },
  {
   "cell_type": "code",
   "execution_count": 29,
   "metadata": {},
   "outputs": [],
   "source": [
    "ON_rest_df = df[df['state']==\"ON\"]\n",
    "on = ON_rest_df.toPandas()\n",
    "on.to_json('ON_business_details.json', orient='records', lines=True)"
   ]
  },
  {
   "cell_type": "code",
   "execution_count": 30,
   "metadata": {},
   "outputs": [],
   "source": [
    "NV_rest_df = df[df['state']==\"NV\"]\n",
    "nv = NV_rest_df.toPandas()\n",
    "nv.to_json('NV_business_details.json', orient='records', lines=True)"
   ]
  },
  {
   "cell_type": "code",
   "execution_count": 31,
   "metadata": {},
   "outputs": [],
   "source": [
    "AZ_rest_df = df[df['state']==\"AZ\"]\n",
    "az = AZ_rest_df.toPandas()\n",
    "az.to_json('AZ_business_details.json', orient='records', lines=True)"
   ]
  },
  {
   "cell_type": "markdown",
   "metadata": {},
   "source": [
    "### License: \n",
    "\n",
    "The text in the document by Shrikant Mudholkar, Varsha Bhanushali and Monas Bhar is licensed under CC BY 3.0 https://creativecommons.org/licenses/by/3.0/us/\n",
    "\n",
    "The code in the document by Shrikant Mudholkar, Varsha Bhanushali and Monas Bhar is licensed under the MIT License https://opensource.org/licenses/MIT"
   ]
  }
 ],
 "metadata": {
  "kernelspec": {
   "display_name": "Python 3",
   "language": "python",
   "name": "python3"
  },
  "language_info": {
   "codemirror_mode": {
    "name": "ipython",
    "version": 3
   },
   "file_extension": ".py",
   "mimetype": "text/x-python",
   "name": "python",
   "nbconvert_exporter": "python",
   "pygments_lexer": "ipython3",
   "version": "3.6.5"
  },
  "name": "RecommendationsALS",
  "notebookId": 3518245818612659
 },
 "nbformat": 4,
 "nbformat_minor": 1
}
